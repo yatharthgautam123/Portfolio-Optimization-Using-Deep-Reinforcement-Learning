{
 "cells": [
  {
   "cell_type": "markdown",
   "metadata": {},
   "source": [
    "# Scraping discrete stocks and crypto currency trading data"
   ]
  },
  {
   "cell_type": "markdown",
   "metadata": {},
   "source": [
    "### importing the libraries"
   ]
  },
  {
   "cell_type": "code",
   "execution_count": 39,
   "metadata": {},
   "outputs": [],
   "source": [
    "import pandas as pd\n",
    "import numpy as np\n",
    "\n",
    "from pandas_datareader import data as pdr\n",
    "from selenium import webdriver\n",
    "from cryptocmd import CmcScraper\n",
    "\n",
    "import requests\n",
    "from bs4 import BeautifulSoup\n",
    "\n",
    "from time import sleep\n",
    "from random import randint\n",
    "import time\n",
    "\n",
    "import matplotlib.pyplot as plt\n",
    "import seaborn as sns\n",
    "from datetime import date\n",
    "import holidays\n",
    "\n",
    "%config InlineBackend.figure_format = 'retina'"
   ]
  },
  {
   "cell_type": "code",
   "execution_count": 2,
   "metadata": {},
   "outputs": [],
   "source": [
    "#NASDAQ\n",
    "options = webdriver.ChromeOptions()\n",
    "options.add_argument('--ignore-certificate-errors')\n",
    "options.add_argument('--incognito')\n",
    "options.add_argument('--headless')\n",
    "driver = webdriver.Chrome(options=options)"
   ]
  },
  {
   "cell_type": "markdown",
   "metadata": {},
   "source": [
    "### function to get stocks data from data reader [from Yahoo Finance using Pandas DataReader]"
   ]
  },
  {
   "cell_type": "code",
   "execution_count": 123,
   "metadata": {},
   "outputs": [],
   "source": [
    "def stock_returns(ticker_list, start, end):\n",
    "    list_of_df = []\n",
    "    not_found = []\n",
    "    \n",
    "    for ticker in ticker_list:\n",
    "        try:\n",
    "            df= pdr.get_data_yahoo(ticker, start, end)\n",
    "            df = df.reset_index()\n",
    "            df.rename(columns={'Date':'date'})\n",
    "            df['ticker'] = [ticker] * len(df)\n",
    "            list_of_df.append(df)\n",
    "        except ValueError:\n",
    "            print(\"Not Found: \"+ticker)\n",
    "            not_found.append(ticker)\n",
    "    \n",
    "    return list_of_df, not_found"
   ]
  },
  {
   "cell_type": "markdown",
   "metadata": {},
   "source": [
    "### function to scrape historical stocks data from NASDAQ"
   ]
  },
  {
   "cell_type": "code",
   "execution_count": 4,
   "metadata": {},
   "outputs": [],
   "source": [
    "def scrape_nasdaq(ticker_list):\n",
    "    tckr_data = {}\n",
    "    count = 1\n",
    "    for ticker in ticker_list:\n",
    "        print(\"Scraping count: \" + str(count))\n",
    "        \n",
    "        url = 'https://old.nasdaq.com/symbol/'+ticker+'/historical'\n",
    "        driver.get(url)\n",
    "        \n",
    "        # Choose 10 year data from a drop down\n",
    "        data_range = driver.find_elements_by_name('ddlTimeFrame')\n",
    "        \n",
    "        if len(data_range)>0:\n",
    "            for option in data_range[0].find_elements_by_tag_name('option'):\n",
    "                if option.text == '10 Years':\n",
    "                    option.click()\n",
    "                    break\n",
    "            time.sleep(5)\n",
    "            page_source = driver.page_source\n",
    "    \n",
    "            #Generating a soup object to parse data from the URL\n",
    "            soup = BeautifulSoup(page_source, 'lxml')\n",
    "    \n",
    "            #Searching for historical table\n",
    "            tags = soup.find_all('div', id=\"historicalContainer\")\n",
    "    \n",
    "            #Getting the data\n",
    "            temp_data=[]\n",
    "    \n",
    "            for tag in tags:\n",
    "                rows = tag.findAll('tr')\n",
    "                for tr in rows:\n",
    "                    cols=tr.findAll('td')\n",
    "                    val = [tr.text for tr in cols]\n",
    "                    temp_data.append(val)\n",
    "            \n",
    "            #Cleaning the data\n",
    "            for i in range(len(temp_data)):\n",
    "                to_process = temp_data[i]\n",
    "    \n",
    "                for i in range(len(to_process)):\n",
    "                    temp = to_process[i]\n",
    "                    temp = temp.strip()\n",
    "                    to_process[i] = temp\n",
    "         \n",
    "            #Getting the data\n",
    "            temp_data = temp_data[2:]\n",
    "            \n",
    "            if tckr_data.get(ticker) == None:\n",
    "                tckr_data[ticker] = temp_data\n",
    "        \n",
    "            # Time Pause to prevent blocking\n",
    "            print(\"Random Sleep\")\n",
    "            sleep(randint(2, 4))\n",
    "            count+=1\n",
    "        \n",
    "        else:\n",
    "            print(\"Not Found\" + ticker)\n",
    "        \n",
    "    #Generating the frame\n",
    "    date = []\n",
    "    Open = []\n",
    "    high = []\n",
    "    low = []\n",
    "    close = []\n",
    "    volume = []\n",
    "    ticker = []\n",
    "\n",
    "    for key, value in tckr_data.items():\n",
    "        for data in value:\n",
    "            date.append(data[0].replace('/','-'))\n",
    "            Open.append(data[1])\n",
    "            high.append(data[2])\n",
    "            low.append(data[3])\n",
    "            close.append(data[4])\n",
    "            volume.append(data[5].replace(',',''))\n",
    "            ticker.append(key)  \n",
    "            \n",
    "    final_dict = {'date' : date, 'Open':Open, 'High':high, 'Low':low, 'Close':close, 'Volume':volume, 'ticker':ticker}\n",
    "    \n",
    "    df = pd.DataFrame(final_dict)\n",
    "    cols = ['date', 'Open', 'High', 'Low', 'Close', 'Volume', 'ticker']\n",
    "    df = df[cols]\n",
    "\n",
    "    return df"
   ]
  },
  {
   "cell_type": "markdown",
   "metadata": {},
   "source": [
    "### function to get stocks data from a combination of above two functions"
   ]
  },
  {
   "cell_type": "code",
   "execution_count": 5,
   "metadata": {},
   "outputs": [],
   "source": [
    "def get_stocks_data(ticker_set, start, end):\n",
    "    #Stocks data for a year from Yahoo Data\n",
    "    stocks_1, not_found = stock_returns(ticker_set, start, end)\n",
    "    \n",
    "    if len(not_found) > 0:\n",
    "    \n",
    "        #Stocks_data for remaining tickers from Nasdaq\n",
    "        stocks = scrape_nasdaq(not_found)\n",
    "    \n",
    "        #Merging them into one dataframe\n",
    "        stocks_1 = pd.concat(stocks_1)\n",
    "\n",
    "        stocks_1 = stocks_1.rename(columns={'Date' : 'date'})\n",
    "        stocks_1 = stocks_1[['date', 'Open', 'High', 'Low', 'Close', 'Volume', 'ticker']]\n",
    "        stocks_1['date'] = stocks_1['date'].dt.date\n",
    "\n",
    "        stocks = stocks.rename(columns={'Ticker' : 'ticker'})\n",
    "        stocks[['Open', 'High', 'Low', 'Close', 'Volume']] = stocks[['Open', 'High', 'Low', 'Close', 'Volume']].astype(float)\n",
    "    \n",
    "        stocks_final = pd.concat([stocks_1, stocks])\n",
    "        return stocks_final\n",
    "    \n",
    "    else:\n",
    "        return pd.concat(stocks_1)\n"
   ]
  },
  {
   "cell_type": "markdown",
   "metadata": {},
   "source": [
    "### function to get Crypto Currency trading data"
   ]
  },
  {
   "cell_type": "code",
   "execution_count": 6,
   "metadata": {},
   "outputs": [],
   "source": [
    "crypto = ['BTC', 'ETH', 'LTC', 'XEM', 'XMR', 'XRP']"
   ]
  },
  {
   "cell_type": "code",
   "execution_count": 7,
   "metadata": {},
   "outputs": [],
   "source": [
    "def crypto_scrape(ticker):\n",
    "    # initialise scraper without time interval to get \n",
    "    scraper = CmcScraper(ticker)\n",
    "    # Pandas dataFrame for the data\n",
    "    df = scraper.get_dataframe()\n",
    "    # Adding ticker value to the historical data\n",
    "    df['crypto_ticker'] = ticker\n",
    "    \n",
    "    return df"
   ]
  },
  {
   "cell_type": "code",
   "execution_count": 8,
   "metadata": {},
   "outputs": [],
   "source": [
    "crypto_data = []\n",
    "for ticker in crypto:\n",
    "    df = crypto_scrape(ticker)\n",
    "    crypto_data.append(df)"
   ]
  },
  {
   "cell_type": "code",
   "execution_count": 9,
   "metadata": {},
   "outputs": [],
   "source": [
    "crypto_data = pd.concat(crypto_data)"
   ]
  },
  {
   "cell_type": "code",
   "execution_count": 10,
   "metadata": {},
   "outputs": [],
   "source": [
    "crypto_data.to_csv('Crypto_Data.csv')"
   ]
  },
  {
   "cell_type": "markdown",
   "metadata": {},
   "source": [
    "### Generate Data [ getting the Open, Low, High and Close values +Ticker ]"
   ]
  },
  {
   "cell_type": "code",
   "execution_count": 11,
   "metadata": {},
   "outputs": [],
   "source": [
    "crypto = pd.read_csv('Crypto_Data.csv')"
   ]
  },
  {
   "cell_type": "code",
   "execution_count": 13,
   "metadata": {},
   "outputs": [
    {
     "data": {
      "text/html": [
       "<div>\n",
       "<style scoped>\n",
       "    .dataframe tbody tr th:only-of-type {\n",
       "        vertical-align: middle;\n",
       "    }\n",
       "\n",
       "    .dataframe tbody tr th {\n",
       "        vertical-align: top;\n",
       "    }\n",
       "\n",
       "    .dataframe thead th {\n",
       "        text-align: right;\n",
       "    }\n",
       "</style>\n",
       "<table border=\"1\" class=\"dataframe\">\n",
       "  <thead>\n",
       "    <tr style=\"text-align: right;\">\n",
       "      <th></th>\n",
       "      <th>Unnamed: 0</th>\n",
       "      <th>Date</th>\n",
       "      <th>Open</th>\n",
       "      <th>High</th>\n",
       "      <th>Low</th>\n",
       "      <th>Close</th>\n",
       "      <th>Volume</th>\n",
       "      <th>Market Cap</th>\n",
       "      <th>crypto_ticker</th>\n",
       "    </tr>\n",
       "  </thead>\n",
       "  <tbody>\n",
       "    <tr>\n",
       "      <th>6203</th>\n",
       "      <td>2344</td>\n",
       "      <td>2013-04-28</td>\n",
       "      <td>4.300000</td>\n",
       "      <td>4.400000</td>\n",
       "      <td>4.180000</td>\n",
       "      <td>4.350000</td>\n",
       "      <td>NaN</td>\n",
       "      <td>74636938</td>\n",
       "      <td>LTC</td>\n",
       "    </tr>\n",
       "    <tr>\n",
       "      <th>2344</th>\n",
       "      <td>2344</td>\n",
       "      <td>2013-04-28</td>\n",
       "      <td>135.300000</td>\n",
       "      <td>135.980000</td>\n",
       "      <td>132.100000</td>\n",
       "      <td>134.210000</td>\n",
       "      <td>NaN</td>\n",
       "      <td>1488566728</td>\n",
       "      <td>BTC</td>\n",
       "    </tr>\n",
       "    <tr>\n",
       "      <th>12048</th>\n",
       "      <td>2246</td>\n",
       "      <td>2013-08-04</td>\n",
       "      <td>0.005874</td>\n",
       "      <td>0.005927</td>\n",
       "      <td>0.005874</td>\n",
       "      <td>0.005882</td>\n",
       "      <td>NaN</td>\n",
       "      <td>45983577</td>\n",
       "      <td>XRP</td>\n",
       "    </tr>\n",
       "    <tr>\n",
       "      <th>9801</th>\n",
       "      <td>1955</td>\n",
       "      <td>2014-05-21</td>\n",
       "      <td>2.470000</td>\n",
       "      <td>2.650000</td>\n",
       "      <td>1.230000</td>\n",
       "      <td>1.600000</td>\n",
       "      <td>246540.0</td>\n",
       "      <td>1382563</td>\n",
       "      <td>XMR</td>\n",
       "    </tr>\n",
       "    <tr>\n",
       "      <th>7845</th>\n",
       "      <td>1641</td>\n",
       "      <td>2015-04-01</td>\n",
       "      <td>0.000400</td>\n",
       "      <td>0.000458</td>\n",
       "      <td>0.000170</td>\n",
       "      <td>0.000242</td>\n",
       "      <td>65525.0</td>\n",
       "      <td>2180943</td>\n",
       "      <td>XEM</td>\n",
       "    </tr>\n",
       "    <tr>\n",
       "      <th>3858</th>\n",
       "      <td>1513</td>\n",
       "      <td>2015-08-07</td>\n",
       "      <td>2.830000</td>\n",
       "      <td>3.540000</td>\n",
       "      <td>2.520000</td>\n",
       "      <td>2.770000</td>\n",
       "      <td>164329.0</td>\n",
       "      <td>166610555</td>\n",
       "      <td>ETH</td>\n",
       "    </tr>\n",
       "  </tbody>\n",
       "</table>\n",
       "</div>"
      ],
      "text/plain": [
       "       Unnamed: 0        Date        Open        High         Low       Close  \\\n",
       "6203         2344  2013-04-28    4.300000    4.400000    4.180000    4.350000   \n",
       "2344         2344  2013-04-28  135.300000  135.980000  132.100000  134.210000   \n",
       "12048        2246  2013-08-04    0.005874    0.005927    0.005874    0.005882   \n",
       "9801         1955  2014-05-21    2.470000    2.650000    1.230000    1.600000   \n",
       "7845         1641  2015-04-01    0.000400    0.000458    0.000170    0.000242   \n",
       "3858         1513  2015-08-07    2.830000    3.540000    2.520000    2.770000   \n",
       "\n",
       "         Volume  Market Cap crypto_ticker  \n",
       "6203        NaN    74636938           LTC  \n",
       "2344        NaN  1488566728           BTC  \n",
       "12048       NaN    45983577           XRP  \n",
       "9801   246540.0     1382563           XMR  \n",
       "7845    65525.0     2180943           XEM  \n",
       "3858   164329.0   166610555           ETH  "
      ]
     },
     "execution_count": 13,
     "metadata": {},
     "output_type": "execute_result"
    }
   ],
   "source": [
    "crypto.sort_values('Date', ascending=True).drop_duplicates('crypto_ticker')"
   ]
  },
  {
   "cell_type": "code",
   "execution_count": 14,
   "metadata": {},
   "outputs": [],
   "source": [
    "crypto = crypto[['Date', 'Open', 'High', 'Low', 'Close', 'crypto_ticker']]"
   ]
  },
  {
   "cell_type": "code",
   "execution_count": 15,
   "metadata": {},
   "outputs": [
    {
     "data": {
      "text/html": [
       "<div>\n",
       "<style scoped>\n",
       "    .dataframe tbody tr th:only-of-type {\n",
       "        vertical-align: middle;\n",
       "    }\n",
       "\n",
       "    .dataframe tbody tr th {\n",
       "        vertical-align: top;\n",
       "    }\n",
       "\n",
       "    .dataframe thead th {\n",
       "        text-align: right;\n",
       "    }\n",
       "</style>\n",
       "<table border=\"1\" class=\"dataframe\">\n",
       "  <thead>\n",
       "    <tr style=\"text-align: right;\">\n",
       "      <th></th>\n",
       "      <th>Date</th>\n",
       "      <th>Open</th>\n",
       "      <th>High</th>\n",
       "      <th>Low</th>\n",
       "      <th>Close</th>\n",
       "      <th>crypto_ticker</th>\n",
       "    </tr>\n",
       "  </thead>\n",
       "  <tbody>\n",
       "    <tr>\n",
       "      <th>11014</th>\n",
       "      <td>2016-06-03</td>\n",
       "      <td>0.005766</td>\n",
       "      <td>0.005870</td>\n",
       "      <td>0.005741</td>\n",
       "      <td>0.005827</td>\n",
       "      <td>XRP</td>\n",
       "    </tr>\n",
       "    <tr>\n",
       "      <th>7393</th>\n",
       "      <td>2016-06-26</td>\n",
       "      <td>0.007393</td>\n",
       "      <td>0.007393</td>\n",
       "      <td>0.006326</td>\n",
       "      <td>0.006817</td>\n",
       "      <td>XEM</td>\n",
       "    </tr>\n",
       "    <tr>\n",
       "      <th>11063</th>\n",
       "      <td>2016-04-15</td>\n",
       "      <td>0.006303</td>\n",
       "      <td>0.006473</td>\n",
       "      <td>0.006229</td>\n",
       "      <td>0.006424</td>\n",
       "      <td>XRP</td>\n",
       "    </tr>\n",
       "    <tr>\n",
       "      <th>8650</th>\n",
       "      <td>2017-07-16</td>\n",
       "      <td>31.970000</td>\n",
       "      <td>32.530000</td>\n",
       "      <td>28.830000</td>\n",
       "      <td>29.430000</td>\n",
       "      <td>XMR</td>\n",
       "    </tr>\n",
       "  </tbody>\n",
       "</table>\n",
       "</div>"
      ],
      "text/plain": [
       "             Date       Open       High        Low      Close crypto_ticker\n",
       "11014  2016-06-03   0.005766   0.005870   0.005741   0.005827           XRP\n",
       "7393   2016-06-26   0.007393   0.007393   0.006326   0.006817           XEM\n",
       "11063  2016-04-15   0.006303   0.006473   0.006229   0.006424           XRP\n",
       "8650   2017-07-16  31.970000  32.530000  28.830000  29.430000           XMR"
      ]
     },
     "execution_count": 15,
     "metadata": {},
     "output_type": "execute_result"
    }
   ],
   "source": [
    "crypto.sample(4)"
   ]
  },
  {
   "cell_type": "code",
   "execution_count": 16,
   "metadata": {},
   "outputs": [],
   "source": [
    "tickers = ['AAPL', 'XOM' ,'VMC', 'BA', 'AMZN', 'TGT', 'WMT', 'KO', 'UNH', 'JPM', 'GOOGL', 'STT', 'MSFT', 'VZ', 'XEL', 'SPG']\n",
    "df = get_stocks_data(tickers, start='2005-01-01', end='2019-08-01')"
   ]
  },
  {
   "cell_type": "code",
   "execution_count": 17,
   "metadata": {},
   "outputs": [],
   "source": [
    "df = df[['Date', 'Open', 'High', 'Low', 'Close', 'ticker']]"
   ]
  },
  {
   "cell_type": "code",
   "execution_count": 18,
   "metadata": {},
   "outputs": [
    {
     "data": {
      "text/html": [
       "<div>\n",
       "<style scoped>\n",
       "    .dataframe tbody tr th:only-of-type {\n",
       "        vertical-align: middle;\n",
       "    }\n",
       "\n",
       "    .dataframe tbody tr th {\n",
       "        vertical-align: top;\n",
       "    }\n",
       "\n",
       "    .dataframe thead th {\n",
       "        text-align: right;\n",
       "    }\n",
       "</style>\n",
       "<table border=\"1\" class=\"dataframe\">\n",
       "  <thead>\n",
       "    <tr style=\"text-align: right;\">\n",
       "      <th></th>\n",
       "      <th>Date</th>\n",
       "      <th>Open</th>\n",
       "      <th>High</th>\n",
       "      <th>Low</th>\n",
       "      <th>Close</th>\n",
       "      <th>ticker</th>\n",
       "    </tr>\n",
       "  </thead>\n",
       "  <tbody>\n",
       "    <tr>\n",
       "      <th>363</th>\n",
       "      <td>2006-06-13</td>\n",
       "      <td>21.590000</td>\n",
       "      <td>21.625000</td>\n",
       "      <td>21.379999</td>\n",
       "      <td>21.455000</td>\n",
       "      <td>KO</td>\n",
       "    </tr>\n",
       "    <tr>\n",
       "      <th>2838</th>\n",
       "      <td>2016-04-13</td>\n",
       "      <td>81.110001</td>\n",
       "      <td>81.669998</td>\n",
       "      <td>80.489998</td>\n",
       "      <td>81.559998</td>\n",
       "      <td>TGT</td>\n",
       "    </tr>\n",
       "    <tr>\n",
       "      <th>2094</th>\n",
       "      <td>2013-04-30</td>\n",
       "      <td>249.369995</td>\n",
       "      <td>254.679993</td>\n",
       "      <td>248.559998</td>\n",
       "      <td>253.809998</td>\n",
       "      <td>AMZN</td>\n",
       "    </tr>\n",
       "    <tr>\n",
       "      <th>1670</th>\n",
       "      <td>2011-08-19</td>\n",
       "      <td>50.029999</td>\n",
       "      <td>50.910000</td>\n",
       "      <td>49.759998</td>\n",
       "      <td>49.919998</td>\n",
       "      <td>TGT</td>\n",
       "    </tr>\n",
       "    <tr>\n",
       "      <th>3021</th>\n",
       "      <td>2017-01-03</td>\n",
       "      <td>62.790001</td>\n",
       "      <td>62.840000</td>\n",
       "      <td>62.130001</td>\n",
       "      <td>62.580002</td>\n",
       "      <td>MSFT</td>\n",
       "    </tr>\n",
       "  </tbody>\n",
       "</table>\n",
       "</div>"
      ],
      "text/plain": [
       "           Date        Open        High         Low       Close ticker\n",
       "363  2006-06-13   21.590000   21.625000   21.379999   21.455000     KO\n",
       "2838 2016-04-13   81.110001   81.669998   80.489998   81.559998    TGT\n",
       "2094 2013-04-30  249.369995  254.679993  248.559998  253.809998   AMZN\n",
       "1670 2011-08-19   50.029999   50.910000   49.759998   49.919998    TGT\n",
       "3021 2017-01-03   62.790001   62.840000   62.130001   62.580002   MSFT"
      ]
     },
     "execution_count": 18,
     "metadata": {},
     "output_type": "execute_result"
    }
   ],
   "source": [
    "df.sample(5)"
   ]
  },
  {
   "cell_type": "code",
   "execution_count": 19,
   "metadata": {},
   "outputs": [],
   "source": [
    "df.to_csv('stocks.csv')"
   ]
  }
 ],
 "metadata": {
  "kernelspec": {
   "display_name": "Python 3",
   "language": "python",
   "name": "python3"
  },
  "language_info": {
   "codemirror_mode": {
    "name": "ipython",
    "version": 3
   },
   "file_extension": ".py",
   "mimetype": "text/x-python",
   "name": "python",
   "nbconvert_exporter": "python",
   "pygments_lexer": "ipython3",
   "version": "3.6.5"
  }
 },
 "nbformat": 4,
 "nbformat_minor": 2
}
